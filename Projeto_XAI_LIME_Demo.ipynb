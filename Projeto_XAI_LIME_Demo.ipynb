{
 "cells": [
  {
   "cell_type": "markdown",
   "id": "cc74a8c8",
   "metadata": {},
   "source": [
    "# 🔗 Integração de Dados, Imagens e LIME"
   ]
  },
  {
   "cell_type": "markdown",
   "id": "cf64e962",
   "metadata": {},
   "source": [
    "As células abaixo carregam dados, exibem imagens e geram uma explicação com **LIME** (se instalado)."
   ]
  },
  {
   "cell_type": "code",
   "execution_count": null,
   "id": "2a4b183f",
   "metadata": {},
   "outputs": [],
   "source": [
    "\n",
    "# 1) Carregar dados de exemplo\n",
    "import pandas as pd\n",
    "from pathlib import Path\n",
    "\n",
    "dados_csv = Path(\"dados\") / \"clientes_exemplo.csv\"\n",
    "df = pd.read_csv(dados_csv)\n",
    "display(df.head())\n",
    "\n",
    "print(f\"Arquivo carregado: {dados_csv.resolve()}\")\n",
    "print(f\"Formato: {df.shape[0]} linhas x {df.shape[1]} colunas\")\n"
   ]
  },
  {
   "cell_type": "code",
   "execution_count": null,
   "id": "d5b1f10b",
   "metadata": {},
   "outputs": [],
   "source": [
    "\n",
    "# 2) Visualização básica (dispersão) e exibição de imagem salva\n",
    "import matplotlib.pyplot as plt\n",
    "from matplotlib import image as mpimg\n",
    "from pathlib import Path\n",
    "\n",
    "# Dispersão\n",
    "plt.figure()\n",
    "plt.scatter(df[\"idade\"], df[\"salario\"], c=df[\"comprou\"], edgecolors=\"k\")\n",
    "plt.xlabel(\"Idade\")\n",
    "plt.ylabel(\"Salário\")\n",
    "plt.title(\"Distribuição de Clientes (Exemplo)\")\n",
    "plt.show()\n",
    "\n",
    "# Exibir imagem salva\n",
    "img_path = Path(\"imagens\") / \"grafico_clientes.png\"\n",
    "if img_path.exists():\n",
    "    img = mpimg.imread(img_path)\n",
    "    plt.figure()\n",
    "    plt.imshow(img)\n",
    "    plt.axis(\"off\")\n",
    "    plt.title(\"Gráfico salvo: imagens/grafico_clientes.png\")\n",
    "    plt.show()\n",
    "else:\n",
    "    print(\"Imagem não encontrada:\", img_path)\n"
   ]
  },
  {
   "cell_type": "code",
   "execution_count": null,
   "id": "ac49a115",
   "metadata": {},
   "outputs": [],
   "source": [
    "\n",
    "# 3) Exemplo de treino simples + LIME (com fallback se LIME não estiver instalado)\n",
    "from sklearn.model_selection import train_test_split\n",
    "from sklearn.preprocessing import StandardScaler\n",
    "from sklearn.linear_model import LogisticRegression\n",
    "from sklearn.pipeline import Pipeline\n",
    "\n",
    "X = df[[\"idade\", \"salario\"]].values\n",
    "y = df[\"comprou\"].values\n",
    "\n",
    "X_train, X_test, y_train, y_test = train_test_split(X, y, test_size=0.3, random_state=42)\n",
    "\n",
    "pipe = Pipeline([\n",
    "    (\"scaler\", StandardScaler()),\n",
    "    (\"clf\", LogisticRegression())\n",
    "])\n",
    "pipe.fit(X_train, y_train)\n",
    "print(\"Acurácia (hold-out):\", pipe.score(X_test, y_test))\n",
    "\n",
    "# Tentar usar LIME\n",
    "try:\n",
    "    from lime.lime_tabular import LimeTabularExplainer\n",
    "    explainer = LimeTabularExplainer(\n",
    "        X_train,\n",
    "        feature_names=[\"idade\", \"salario\"],\n",
    "        class_names=[\"nao_comprou\", \"comprou\"],\n",
    "        discretize_continuous=True\n",
    "    )\n",
    "    i = 0  # explicar a primeira instância do conjunto de teste\n",
    "    exp = explainer.explain_instance(\n",
    "        X_test[i],\n",
    "        pipe.predict_proba,\n",
    "        num_features=2\n",
    "    )\n",
    "    print(\"Explicação (lista de pesos):\")\n",
    "    for feat, weight in exp.as_list():\n",
    "        print(f\"  {feat}: {weight:.4f}\")\n",
    "except ImportError as e:\n",
    "    print(\"LIME não está instalado. Para instalar, execute no seu ambiente:\")\n",
    "    print(\"  pip install lime\")\n",
    "except Exception as e:\n",
    "    print(\"Não foi possível gerar a explicação com LIME:\", e)\n"
   ]
  },
  {
   "cell_type": "markdown",
   "id": "6f4e925d",
   "metadata": {},
   "source": [
    "_Última atualização automática:_ **2025-08-08 20:45:42**"
   ]
  }
 ],
 "metadata": {},
 "nbformat": 4,
 "nbformat_minor": 5
}
