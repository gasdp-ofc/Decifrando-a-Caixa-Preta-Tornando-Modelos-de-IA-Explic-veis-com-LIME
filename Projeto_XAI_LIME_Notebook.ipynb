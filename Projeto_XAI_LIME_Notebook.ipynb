
# Projeto: Decifrando a Caixa Preta com LIME
# Autor: Guilherme Alves

import pandas as pd
import numpy as np
import matplotlib.pyplot as plt
import seaborn as sns
from sklearn.model_selection import train_test_split
from sklearn.ensemble import RandomForestClassifier
from sklearn.metrics import classification_report, confusion_matrix
import lime
import lime.lime_tabular

# 1. Carregar dataset
df = pd.read_csv('dados/german_credit_data.csv')
print("Amostras do dataset:")
print(df.head())

# 2. Pré-processamento
df = pd.get_dummies(df, drop_first=True)
X = df.drop('CreditRisk', axis=1)
y = df['CreditRisk']

X_train, X_test, y_train, y_test = train_test_split(X, y, test_size=0.2, random_state=42)

# 3. Treinar modelo
model = RandomForestClassifier(random_state=42)
model.fit(X_train, y_train)

# 4. Avaliação
y_pred = model.predict(X_test)
print(classification_report(y_test, y_pred))
print(confusion_matrix(y_test, y_pred))

# 5. Aplicar LIME
explainer = lime.lime_tabular.LimeTabularExplainer(
    training_data=np.array(X_train),
    feature_names=X_train.columns,
    class_names=['Bom', 'Ruim'],
    mode='classification'
)

i = 0
exp = explainer.explain_instance(X_test.iloc[i], model.predict_proba)
exp.show_in_notebook()
exp.save_to_file('imagens/lime_explicacao.html')

print("Explicação salva em imagens/lime_explicacao.html")
